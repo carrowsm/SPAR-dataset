{
 "cells": [
  {
   "cell_type": "code",
   "execution_count": 1,
   "metadata": {},
   "outputs": [],
   "source": [
    "import numpy as np"
   ]
  },
  {
   "cell_type": "code",
   "execution_count": 2,
   "metadata": {},
   "outputs": [],
   "source": [
    "data = np.load(\"bin/SPAR.npy\", allow_pickle=True).item()\n",
    "\n",
    "X, y, subject, side = data['X'], data['y'], data['subject'], data['side']\n",
    "X_labels, y_labels, side_labels = data['X_labels'], data['y_labels'], data['side_labels']"
   ]
  },
  {
   "cell_type": "code",
   "execution_count": 14,
   "metadata": {},
   "outputs": [
    {
     "name": "stdout",
     "output_type": "stream",
     "text": [
      "X_labels:  ['ax', 'ay', 'az', 'wx', 'wy', 'wz']\n",
      "y_labels:  ['PEN', 'ABD', 'FEL', 'IR', 'ER', 'TRAP', 'ROW']\n",
      "side_labels:  ['Left', 'Right']\n"
     ]
    }
   ],
   "source": [
    "print(\"X_labels: \", X_labels)\n",
    "print(\"y_labels: \", y_labels)\n",
    "print(\"side_labels: \", side_labels)"
   ]
  },
  {
   "cell_type": "code",
   "execution_count": 15,
   "metadata": {},
   "outputs": [],
   "source": [
    "from sklearn.ensemble import RandomForestClassifier\n",
    "from sklearn.model_selection import train_test_split\n",
    "from sklearn.preprocessing import StandardScaler\n",
    "from seglearn.pipe import Pype\n",
    "from seglearn.transform import FeatureRep, SegmentX"
   ]
  },
  {
   "cell_type": "code",
   "execution_count": 16,
   "metadata": {},
   "outputs": [],
   "source": [
    "clf = Pype([('segment', SegmentX()),\n",
    "            ('features', FeatureRep()),\n",
    "            ('scaler', StandardScaler()),\n",
    "            ('rf', RandomForestClassifier(n_estimators=20))])"
   ]
  },
  {
   "cell_type": "code",
   "execution_count": 17,
   "metadata": {},
   "outputs": [],
   "source": [
    "X_train, X_test, y_train, y_test = train_test_split(X, y, test_size=0.25)\n",
    "clf.fit(X_train, y_train)\n",
    "score = clf.score(X_test, y_test)"
   ]
  },
  {
   "cell_type": "code",
   "execution_count": 18,
   "metadata": {},
   "outputs": [
    {
     "name": "stdout",
     "output_type": "stream",
     "text": [
      "N series in train:  210\n",
      "N series in test:  70\n",
      "N segments in train:  8922\n",
      "N segments in test:  2845\n",
      "Accuracy score:  0.7599297012302285\n"
     ]
    }
   ],
   "source": [
    "print(\"N series in train: \", len(X_train))\n",
    "print(\"N series in test: \", len(X_test))\n",
    "print(\"N segments in train: \", clf.N_train)\n",
    "print(\"N segments in test: \", clf.N_test)\n",
    "print(\"Accuracy score: \", score)"
   ]
  },
  {
   "cell_type": "code",
   "execution_count": null,
   "metadata": {},
   "outputs": [],
   "source": []
  }
 ],
 "metadata": {
  "kernelspec": {
   "display_name": ".venv3",
   "language": "python",
   "name": ".venv3"
  },
  "language_info": {
   "codemirror_mode": {
    "name": "ipython",
    "version": 3
   },
   "file_extension": ".py",
   "mimetype": "text/x-python",
   "name": "python",
   "nbconvert_exporter": "python",
   "pygments_lexer": "ipython3",
   "version": "3.6.8"
  }
 },
 "nbformat": 4,
 "nbformat_minor": 2
}
